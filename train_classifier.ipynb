{
 "cells": [
  {
   "cell_type": "code",
   "execution_count": 1,
   "outputs": [],
   "source": [
    "from IDRiDClassifier import IDRiDClassifier\n",
    "from IDRiDGradingDataset import IDRiDGradingDataset\n",
    "import copy\n",
    "from torchvision import transforms, utils\n",
    "from torch.utils.data import Dataset, DataLoader\n",
    "from copy import deepcopy\n",
    "import numpy as np\n",
    "import torch\n",
    "import pandas as pd\n",
    "from classifier_utils import train, test"
   ],
   "metadata": {
    "collapsed": false,
    "pycharm": {
     "name": "#%%\n",
     "is_executing": false
    }
   }
  },
  {
   "cell_type": "code",
   "execution_count": 3,
   "outputs": [
    {
     "name": "stdout",
     "text": [
      "# batches in train set 104 | # batches in test set 26\n"
     ],
     "output_type": "stream"
    }
   ],
   "source": [
    "# Prepare data\n",
    "root_dir_train = '/Users/khalilouardini/Desktop/projects/dlmi/B. Disease Grading/1. Original Images/a. Training Set'\n",
    "csv_file_train = '/Users/khalilouardini/Desktop/projects/dlmi/B. Disease Grading/2. Groundtruths/a. IDRiD_Disease Grading_Training Labels.csv'\n",
    "\n",
    "root_dir_test = '/Users/khalilouardini/Desktop/projects/dlmi/B. Disease Grading/1. Original Images/b. Testing Set'\n",
    "csv_file_test = '/Users/khalilouardini/Desktop/projects/dlmi/B. Disease Grading/2. Groundtruths/b. IDRiD_Disease Grading_Testing Labels.csv'\n",
    "bengraham = False\n",
    "\n",
    "# transform (preprocessing)\n",
    "scale = transforms.Resize((64, 64))\n",
    "to_tensor = transforms.ToTensor()\n",
    "composed = transforms.Compose([scale,\n",
    "                               to_tensor])\n",
    "# train and test set\n",
    "train_set = IDRiDGradingDataset(csv_file_train, root_dir_train, composed, bengraham)\n",
    "test_set = IDRiDGradingDataset(csv_file_test, root_dir_test, composed, bengraham)\n",
    "\n",
    "#dataloaders\n",
    "batch_size = 4\n",
    "train_loader = DataLoader(train_set, batch_size=batch_size,\n",
    "                            shuffle=True, num_workers=0)\n",
    "test_loader = DataLoader(test_set, batch_size=batch_size,\n",
    "                            shuffle=True, num_workers=0)\n",
    "\n",
    "print(f\"# batches in train set {len(train_loader)} | # batches in test set {len(test_loader)}\")"
   ],
   "metadata": {
    "collapsed": false,
    "pycharm": {
     "name": "#%%\n",
     "is_executing": false
    }
   }
  },
  {
   "cell_type": "code",
   "execution_count": null,
   "outputs": [],
   "source": [
    "# model\n",
    "use_cuda = torch.cuda.is_available()\n",
    "model = IDRiDClassifier()\n",
    "device = torch.device(\"cuda:0\" if use_cuda else \"cpu\")\n",
    "if use_cuda:\n",
    "    model = torch.nn.DataParallel(model)\n",
    "model.to(device)\n",
    "\n",
    "# intialize variables\n",
    "n_epochs = 1\n",
    "lr = 1e-4\n",
    "criterion = torch.nn.CrossEntropyLoss(reduction='sum')\n",
    "optimizer = torch.optim.Adam(model.parameters(), lr=lr)"
   ],
   "metadata": {
    "collapsed": false,
    "pycharm": {
     "name": "#%%\n"
    }
   }
  },
  {
   "cell_type": "code",
   "execution_count": null,
   "outputs": [],
   "source": [],
   "metadata": {
    "collapsed": false,
    "pycharm": {
     "name": "#%%\n"
    }
   }
  },
  {
   "cell_type": "code",
   "execution_count": null,
   "outputs": [],
   "source": [
    "best_model = train(model, train_loader, criterion, optimizer, n_epochs, device)\n",
    "test(model, test_loader, criterion, device)\n",
    "print(\"done\")"
   ],
   "metadata": {
    "collapsed": false,
    "pycharm": {
     "name": "#%%\n"
    }
   }
  },
  {
   "cell_type": "code",
   "execution_count": null,
   "outputs": [],
   "source": [
    "\n"
   ],
   "metadata": {
    "collapsed": false,
    "pycharm": {
     "name": "#%%\n"
    }
   }
  }
 ],
 "metadata": {
  "language_info": {
   "codemirror_mode": {
    "name": "ipython",
    "version": 2
   },
   "file_extension": ".py",
   "mimetype": "text/x-python",
   "name": "python",
   "nbconvert_exporter": "python",
   "pygments_lexer": "ipython2",
   "version": "2.7.6"
  },
  "kernelspec": {
   "name": "python3",
   "language": "python",
   "display_name": "Python 3"
  },
  "pycharm": {
   "stem_cell": {
    "cell_type": "raw",
    "source": [],
    "metadata": {
     "collapsed": false
    }
   }
  }
 },
 "nbformat": 4,
 "nbformat_minor": 0
}