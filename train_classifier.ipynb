{
  "nbformat": 4,
  "nbformat_minor": 0,
  "metadata": {
    "language_info": {
      "codemirror_mode": {
        "name": "ipython",
        "version": 2
      },
      "file_extension": ".py",
      "mimetype": "text/x-python",
      "name": "python",
      "nbconvert_exporter": "python",
      "pygments_lexer": "ipython2",
      "version": "2.7.6"
    },
    "kernelspec": {
      "name": "python3",
      "display_name": "Python 3"
    },
    "pycharm": {
      "stem_cell": {
        "cell_type": "raw",
        "source": [],
        "metadata": {
          "collapsed": false
        }
      }
    },
    "colab": {
      "name": "train_classifier.ipynb",
      "provenance": [],
      "collapsed_sections": [],
      "include_colab_link": true
    },
    "accelerator": "GPU",
    "widgets": {
      "application/vnd.jupyter.widget-state+json": {
        "f5dcab91da504ab6a7bd30d6760078ed": {
          "model_module": "@jupyter-widgets/controls",
          "model_name": "HBoxModel",
          "state": {
            "_view_name": "HBoxView",
            "_dom_classes": [],
            "_model_name": "HBoxModel",
            "_view_module": "@jupyter-widgets/controls",
            "_model_module_version": "1.5.0",
            "_view_count": null,
            "_view_module_version": "1.5.0",
            "box_style": "",
            "layout": "IPY_MODEL_f4ee21e48faa48d58d2093679a0f2b51",
            "_model_module": "@jupyter-widgets/controls",
            "children": [
              "IPY_MODEL_f6be49ee721340c3bcb26a2edcc0dc66",
              "IPY_MODEL_c62f3206819e425d803944419dd46e4a"
            ]
          }
        },
        "f4ee21e48faa48d58d2093679a0f2b51": {
          "model_module": "@jupyter-widgets/base",
          "model_name": "LayoutModel",
          "state": {
            "_view_name": "LayoutView",
            "grid_template_rows": null,
            "right": null,
            "justify_content": null,
            "_view_module": "@jupyter-widgets/base",
            "overflow": null,
            "_model_module_version": "1.2.0",
            "_view_count": null,
            "flex_flow": null,
            "width": null,
            "min_width": null,
            "border": null,
            "align_items": null,
            "bottom": null,
            "_model_module": "@jupyter-widgets/base",
            "top": null,
            "grid_column": null,
            "overflow_y": null,
            "overflow_x": null,
            "grid_auto_flow": null,
            "grid_area": null,
            "grid_template_columns": null,
            "flex": null,
            "_model_name": "LayoutModel",
            "justify_items": null,
            "grid_row": null,
            "max_height": null,
            "align_content": null,
            "visibility": null,
            "align_self": null,
            "height": null,
            "min_height": null,
            "padding": null,
            "grid_auto_rows": null,
            "grid_gap": null,
            "max_width": null,
            "order": null,
            "_view_module_version": "1.2.0",
            "grid_template_areas": null,
            "object_position": null,
            "object_fit": null,
            "grid_auto_columns": null,
            "margin": null,
            "display": null,
            "left": null
          }
        },
        "f6be49ee721340c3bcb26a2edcc0dc66": {
          "model_module": "@jupyter-widgets/controls",
          "model_name": "IntProgressModel",
          "state": {
            "_view_name": "ProgressView",
            "style": "IPY_MODEL_068318392e07425982aee4e07e2335f6",
            "_dom_classes": [],
            "description": "",
            "_model_name": "IntProgressModel",
            "bar_style": "success",
            "max": 102502400,
            "_view_module": "@jupyter-widgets/controls",
            "_model_module_version": "1.5.0",
            "value": 102502400,
            "_view_count": null,
            "_view_module_version": "1.5.0",
            "orientation": "horizontal",
            "min": 0,
            "description_tooltip": null,
            "_model_module": "@jupyter-widgets/controls",
            "layout": "IPY_MODEL_e25f8908dacc40a4b0aa42527d9f04c3"
          }
        },
        "c62f3206819e425d803944419dd46e4a": {
          "model_module": "@jupyter-widgets/controls",
          "model_name": "HTMLModel",
          "state": {
            "_view_name": "HTMLView",
            "style": "IPY_MODEL_16f2649e1a2f423fbf1453185f129e17",
            "_dom_classes": [],
            "description": "",
            "_model_name": "HTMLModel",
            "placeholder": "​",
            "_view_module": "@jupyter-widgets/controls",
            "_model_module_version": "1.5.0",
            "value": "100% 97.8M/97.8M [00:04&lt;00:00, 21.1MB/s]",
            "_view_count": null,
            "_view_module_version": "1.5.0",
            "description_tooltip": null,
            "_model_module": "@jupyter-widgets/controls",
            "layout": "IPY_MODEL_7731ffc01b50452589f810dbc71d6906"
          }
        },
        "068318392e07425982aee4e07e2335f6": {
          "model_module": "@jupyter-widgets/controls",
          "model_name": "ProgressStyleModel",
          "state": {
            "_view_name": "StyleView",
            "_model_name": "ProgressStyleModel",
            "description_width": "",
            "_view_module": "@jupyter-widgets/base",
            "_model_module_version": "1.5.0",
            "_view_count": null,
            "_view_module_version": "1.2.0",
            "bar_color": null,
            "_model_module": "@jupyter-widgets/controls"
          }
        },
        "e25f8908dacc40a4b0aa42527d9f04c3": {
          "model_module": "@jupyter-widgets/base",
          "model_name": "LayoutModel",
          "state": {
            "_view_name": "LayoutView",
            "grid_template_rows": null,
            "right": null,
            "justify_content": null,
            "_view_module": "@jupyter-widgets/base",
            "overflow": null,
            "_model_module_version": "1.2.0",
            "_view_count": null,
            "flex_flow": null,
            "width": null,
            "min_width": null,
            "border": null,
            "align_items": null,
            "bottom": null,
            "_model_module": "@jupyter-widgets/base",
            "top": null,
            "grid_column": null,
            "overflow_y": null,
            "overflow_x": null,
            "grid_auto_flow": null,
            "grid_area": null,
            "grid_template_columns": null,
            "flex": null,
            "_model_name": "LayoutModel",
            "justify_items": null,
            "grid_row": null,
            "max_height": null,
            "align_content": null,
            "visibility": null,
            "align_self": null,
            "height": null,
            "min_height": null,
            "padding": null,
            "grid_auto_rows": null,
            "grid_gap": null,
            "max_width": null,
            "order": null,
            "_view_module_version": "1.2.0",
            "grid_template_areas": null,
            "object_position": null,
            "object_fit": null,
            "grid_auto_columns": null,
            "margin": null,
            "display": null,
            "left": null
          }
        },
        "16f2649e1a2f423fbf1453185f129e17": {
          "model_module": "@jupyter-widgets/controls",
          "model_name": "DescriptionStyleModel",
          "state": {
            "_view_name": "StyleView",
            "_model_name": "DescriptionStyleModel",
            "description_width": "",
            "_view_module": "@jupyter-widgets/base",
            "_model_module_version": "1.5.0",
            "_view_count": null,
            "_view_module_version": "1.2.0",
            "_model_module": "@jupyter-widgets/controls"
          }
        },
        "7731ffc01b50452589f810dbc71d6906": {
          "model_module": "@jupyter-widgets/base",
          "model_name": "LayoutModel",
          "state": {
            "_view_name": "LayoutView",
            "grid_template_rows": null,
            "right": null,
            "justify_content": null,
            "_view_module": "@jupyter-widgets/base",
            "overflow": null,
            "_model_module_version": "1.2.0",
            "_view_count": null,
            "flex_flow": null,
            "width": null,
            "min_width": null,
            "border": null,
            "align_items": null,
            "bottom": null,
            "_model_module": "@jupyter-widgets/base",
            "top": null,
            "grid_column": null,
            "overflow_y": null,
            "overflow_x": null,
            "grid_auto_flow": null,
            "grid_area": null,
            "grid_template_columns": null,
            "flex": null,
            "_model_name": "LayoutModel",
            "justify_items": null,
            "grid_row": null,
            "max_height": null,
            "align_content": null,
            "visibility": null,
            "align_self": null,
            "height": null,
            "min_height": null,
            "padding": null,
            "grid_auto_rows": null,
            "grid_gap": null,
            "max_width": null,
            "order": null,
            "_view_module_version": "1.2.0",
            "grid_template_areas": null,
            "object_position": null,
            "object_fit": null,
            "grid_auto_columns": null,
            "margin": null,
            "display": null,
            "left": null
          }
        }
      }
    }
  },
  "cells": [
    {
      "cell_type": "markdown",
      "metadata": {
        "id": "view-in-github",
        "colab_type": "text"
      },
      "source": [
        "<a href=\"https://colab.research.google.com/github/khalilouardini/IDRiD-challenge/blob/master/train_classifier.ipynb\" target=\"_parent\"><img src=\"https://colab.research.google.com/assets/colab-badge.svg\" alt=\"Open In Colab\"/></a>"
      ]
    },
    {
      "cell_type": "code",
      "metadata": {
        "id": "L8_CZHG0iLxd",
        "colab_type": "code",
        "colab": {
          "base_uri": "https://localhost:8080/",
          "height": 122
        },
        "outputId": "2cae46d1-090e-4d79-dc8a-e6f6d86c25d4"
      },
      "source": [
        "from google.colab import drive\n",
        "drive.mount('/content/drive')"
      ],
      "execution_count": 1,
      "outputs": [
        {
          "output_type": "stream",
          "text": [
            "Go to this URL in a browser: https://accounts.google.com/o/oauth2/auth?client_id=947318989803-6bn6qk8qdgf4n4g3pfee6491hc0brc4i.apps.googleusercontent.com&redirect_uri=urn%3aietf%3awg%3aoauth%3a2.0%3aoob&response_type=code&scope=email%20https%3a%2f%2fwww.googleapis.com%2fauth%2fdocs.test%20https%3a%2f%2fwww.googleapis.com%2fauth%2fdrive%20https%3a%2f%2fwww.googleapis.com%2fauth%2fdrive.photos.readonly%20https%3a%2f%2fwww.googleapis.com%2fauth%2fpeopleapi.readonly\n",
            "\n",
            "Enter your authorization code:\n",
            "··········\n",
            "Mounted at /content/drive\n"
          ],
          "name": "stdout"
        }
      ]
    },
    {
      "cell_type": "code",
      "metadata": {
        "id": "xxglY_Gqiv2K",
        "colab_type": "code",
        "colab": {}
      },
      "source": [
        "import os\n",
        "os.chdir('drive/My Drive/IDRiD-challenge')"
      ],
      "execution_count": 0,
      "outputs": []
    },
    {
      "cell_type": "code",
      "metadata": {
        "id": "74_8MJaIi854",
        "colab_type": "code",
        "colab": {
          "base_uri": "https://localhost:8080/",
          "height": 68
        },
        "outputId": "955d3009-1d79-4688-9183-9df5954ebc55"
      },
      "source": [
        "!ls"
      ],
      "execution_count": 6,
      "outputs": [
        {
          "output_type": "stream",
          "text": [
            "classifier_utils.py  IDRiDClassifier.py       Segmentation_task\n",
            "datasets\t     IDRIDetectionDataset.py  train_classifier.ipynb\n",
            "detection.ipynb      __pycache__\n"
          ],
          "name": "stdout"
        }
      ]
    },
    {
      "cell_type": "code",
      "metadata": {
        "id": "4a6nEvnniOav",
        "colab_type": "code",
        "colab": {}
      },
      "source": [
        "from IDRiDClassifier import IDRiDClassifier\n",
        "from datasets.IDRiDGradingDataset import IDRiDGradingDataset\n",
        "import copy\n",
        "from torchvision import transforms, utils\n",
        "from torch.utils.data import Dataset, DataLoader\n",
        "from copy import deepcopy\n",
        "import numpy as np\n",
        "import torch\n",
        "import pandas as pd"
      ],
      "execution_count": 0,
      "outputs": []
    },
    {
      "cell_type": "code",
      "metadata": {
        "pycharm": {
          "name": "#%%\n",
          "is_executing": false
        },
        "id": "rqXVmWPSiJ0V",
        "colab_type": "code",
        "colab": {
          "base_uri": "https://localhost:8080/",
          "height": 34
        },
        "outputId": "7ab21b8a-42be-4677-e060-8fbd962399b5"
      },
      "source": [
        "# Prepare data\n",
        "root_dir_train = \"/content/drive/My Drive/B. Disease Grading/1. Original Images/a. Training Set\"\n",
        "csv_file_train = \"/content/drive/My Drive/B. Disease Grading/2. Groundtruths/a. IDRiD_Disease Grading_Training Labels.csv\"\n",
        "\n",
        "root_dir_test = \"/content/drive/My Drive/B. Disease Grading/1. Original Images/b. Testing Set\"\n",
        "csv_file_test = \"/content/drive/My Drive/B. Disease Grading/2. Groundtruths/b. IDRiD_Disease Grading_Testing Labels.csv\"\n",
        "bengraham = False\n",
        "\n",
        "# transform (preprocessing)\n",
        "scale = transforms.Resize((64, 64))\n",
        "to_tensor = transforms.ToTensor()\n",
        "composed = transforms.Compose([scale,\n",
        "                               to_tensor])\n",
        "# train and test set\n",
        "train_set = IDRiDGradingDataset(csv_file_train, root_dir_train, composed, bengraham)\n",
        "test_set = IDRiDGradingDataset(csv_file_test, root_dir_test, composed, bengraham)\n",
        "\n",
        "#dataloaders\n",
        "batch_size = 4\n",
        "train_loader = DataLoader(train_set, batch_size=batch_size,\n",
        "                            shuffle=True, num_workers=0)\n",
        "test_loader = DataLoader(test_set, batch_size=batch_size,\n",
        "                            shuffle=True, num_workers=0)\n",
        "\n",
        "print(f\"# batches in train set {len(train_loader)} | # batches in test set {len(test_loader)}\")"
      ],
      "execution_count": 13,
      "outputs": [
        {
          "output_type": "stream",
          "text": [
            "# batches in train set 104 | # batches in test set 26\n"
          ],
          "name": "stdout"
        }
      ]
    },
    {
      "cell_type": "code",
      "metadata": {
        "pycharm": {
          "name": "#%%\n"
        },
        "id": "WL6BazEAiJ0a",
        "colab_type": "code",
        "colab": {
          "base_uri": "https://localhost:8080/",
          "height": 103,
          "referenced_widgets": [
            "f5dcab91da504ab6a7bd30d6760078ed",
            "f4ee21e48faa48d58d2093679a0f2b51",
            "f6be49ee721340c3bcb26a2edcc0dc66",
            "c62f3206819e425d803944419dd46e4a",
            "068318392e07425982aee4e07e2335f6",
            "e25f8908dacc40a4b0aa42527d9f04c3",
            "16f2649e1a2f423fbf1453185f129e17",
            "7731ffc01b50452589f810dbc71d6906"
          ]
        },
        "outputId": "8b4d496d-bfc6-4728-dd3c-9538974d4e50"
      },
      "source": [
        "# model\n",
        "use_cuda = torch.cuda.is_available()\n",
        "model = IDRiDClassifier()\n",
        "device = torch.device(\"cuda:0\" if use_cuda else \"cpu\")\n",
        "if use_cuda:\n",
        "    model = torch.nn.DataParallel(model)\n",
        "model.to(device)\n",
        "\n",
        "# intialize variables\n",
        "n_epochs = 20\n",
        "lr = 1e-4\n",
        "criterion = torch.nn.CrossEntropyLoss(reduction='sum')\n",
        "optimizer = torch.optim.Adam(model.parameters(), lr=lr)"
      ],
      "execution_count": 14,
      "outputs": [
        {
          "output_type": "stream",
          "text": [
            "Downloading: \"https://download.pytorch.org/models/resnet50-19c8e357.pth\" to /root/.cache/torch/checkpoints/resnet50-19c8e357.pth\n"
          ],
          "name": "stderr"
        },
        {
          "output_type": "display_data",
          "data": {
            "application/vnd.jupyter.widget-view+json": {
              "model_id": "f5dcab91da504ab6a7bd30d6760078ed",
              "version_minor": 0,
              "version_major": 2
            },
            "text/plain": [
              "HBox(children=(IntProgress(value=0, max=102502400), HTML(value='')))"
            ]
          },
          "metadata": {
            "tags": []
          }
        },
        {
          "output_type": "stream",
          "text": [
            "\n"
          ],
          "name": "stdout"
        }
      ]
    },
    {
      "cell_type": "code",
      "metadata": {
        "id": "VgMVmYZ_oHwW",
        "colab_type": "code",
        "colab": {}
      },
      "source": [
        "import numpy as np\n",
        "import torch\n",
        "import pandas as pd\n",
        "from copy import deepcopy\n",
        "import pdb\n",
        "\n",
        "def train(model, train_loader, criterion, optimizer, n_epochs, device):\n",
        "    \"\"\"\n",
        "    Method used to train our classifier\n",
        "\n",
        "    Args:\n",
        "        model: (nn.Module) the neural network\n",
        "        train_loader: (DataLoader) a DataLoader wrapping a MRIDataset\n",
        "        criterion: (nn.Module) a method to compute the loss of a mini-batch of images\n",
        "        optimizer: (torch.optim) an optimization algorithm\n",
        "        n_epochs: (int) number of epochs performed during training\n",
        "\n",
        "    Returns:\n",
        "        best_model: (nn.Module) the trained neural network\n",
        "    \"\"\"\n",
        "    best_model = deepcopy(model)\n",
        "    train_best_loss = np.inf\n",
        "\n",
        "    for epoch in range(n_epochs):\n",
        "        model.train()\n",
        "        for i, data in enumerate(train_loader, 0):\n",
        "            # load batch\n",
        "            images, labels = data['image'], data['labels']\n",
        "            images = images.to(device)\n",
        "            labels = labels.to(device)\n",
        "            # - forward pass\n",
        "            output = model.forward(images)\n",
        "            # - loss computation\n",
        "            loss = criterion(output, labels)\n",
        "            # - backward pass (gradients computation)\n",
        "            loss.backward()\n",
        "            # - weights update\n",
        "            optimizer.step()\n",
        "            # - gradients set to 0\n",
        "            optimizer.zero_grad()\n",
        "\n",
        "        _, train_metrics = test(model, train_loader, criterion, device)\n",
        "\n",
        "        print('Epoch %i: loss = %f, balanced accuracy = %f'\n",
        "              % (epoch, train_metrics['mean_loss'],\n",
        "                 train_metrics['balanced_accuracy']))\n",
        "\n",
        "        if train_metrics['mean_loss'] < train_best_loss:\n",
        "            best_model = deepcopy(model)\n",
        "            train_best_loss = train_metrics['mean_loss']\n",
        "\n",
        "    return best_model\n",
        "\n",
        "\n",
        "def test(model, data_loader, criterion, device):\n",
        "    \"\"\"\n",
        "    Method used to test a CNN\n",
        "\n",
        "    Args:\n",
        "        model: (nn.Module) the model\n",
        "        data_loader: (DataLoader) a DataLoader\n",
        "        criterion: (nn.Module) a method to compute the loss of a mini-batch of images\n",
        "\n",
        "    Returns:\n",
        "        results_df: (DataFrame) the label predicted for every subject\n",
        "        results_metrics: (dict) a set of metrics\n",
        "    \"\"\"\n",
        "    model.eval()\n",
        "    columns = [\"img_idx\", \"proba\",\n",
        "               \"true_label\", \"predicted_label\"]\n",
        "    results_df = pd.DataFrame(columns=columns)\n",
        "    total_loss = 0\n",
        "\n",
        "    with torch.no_grad():\n",
        "        for i, data in enumerate(data_loader, 0):\n",
        "            images, labels = data['image'].to(device), data['labels'].to(device)\n",
        "            outputs = model(images)\n",
        "            loss = criterion(outputs, labels)\n",
        "            total_loss += loss.item()\n",
        "            proba = torch.nn.Softmax(dim=1)(outputs)\n",
        "            predictions, predicted_labels = torch.max(outputs.data, dim=1).values, torch.max(outputs.data, dim=1).indices\n",
        "            for idx, _ in enumerate(labels):\n",
        "                row = [idx, predictions[idx], labels[idx], predicted_labels[idx]]\n",
        "                row_df = pd.DataFrame([row], columns=columns)\n",
        "                results_df = pd.concat([results_df, row_df])\n",
        "\n",
        "    results_metrics = compute_metrics(results_df.true_label.values, results_df.predicted_label.values)\n",
        "    results_df.reset_index(inplace=True, drop=True)\n",
        "    results_metrics['mean_loss'] = total_loss / len(data_loader.dataset)\n",
        "\n",
        "    return results_df, results_metrics\n",
        "\n",
        "\n",
        "\n",
        "def compute_metrics(ground_truth, prediction):\n",
        "    \"\"\"Computes the accuracy, sensitivity, specificity and balanced accuracy\"\"\"\n",
        "    tp = np.sum((prediction == 1) & (ground_truth == 1))\n",
        "    tn = np.sum((prediction == 0) & (ground_truth == 0))\n",
        "    fp = np.sum((prediction == 1) & (ground_truth == 0))\n",
        "    fn = np.sum((prediction == 0) & (ground_truth == 1))\n",
        "\n",
        "    metrics_dict = dict()\n",
        "    metrics_dict['accuracy'] = (tp + tn) / (tp + tn + fp + fn)\n",
        "\n",
        "    # Sensitivity\n",
        "    if tp + fn != 0:\n",
        "        metrics_dict['sensitivity'] = tp / (tp + fn)\n",
        "    else:\n",
        "        metrics_dict['sensitivity'] = 0.0\n",
        "\n",
        "    # Specificity\n",
        "    if fp + tn != 0:\n",
        "        metrics_dict['specificity'] = tn / (fp + tn)\n",
        "    else:\n",
        "        metrics_dict['specificity'] = 0.0\n",
        "\n",
        "    metrics_dict['balanced_accuracy'] = (metrics_dict['sensitivity'] + metrics_dict['specificity']) / 2\n",
        "\n",
        "    return metrics_dict"
      ],
      "execution_count": 0,
      "outputs": []
    },
    {
      "cell_type": "code",
      "metadata": {
        "id": "37Hs_d43r8ck",
        "colab_type": "code",
        "colab": {}
      },
      "source": [
        "from classifier_utils import train, test"
      ],
      "execution_count": 0,
      "outputs": []
    },
    {
      "cell_type": "code",
      "metadata": {
        "pycharm": {
          "name": "#%%\n"
        },
        "id": "4UpXIhMuiJ0f",
        "colab_type": "code",
        "colab": {
          "base_uri": "https://localhost:8080/",
          "height": 34
        },
        "outputId": "0eb6c24d-3c0b-4ea5-c435-294e454f78c1"
      },
      "source": [
        "best_model = train(model, train_loader, criterion, optimizer, n_epochs, device)"
      ],
      "execution_count": 28,
      "outputs": [
        {
          "output_type": "stream",
          "text": [
            "Epoch 0: loss = 1.847604, balanced accuracy = 0.472826\n"
          ],
          "name": "stdout"
        }
      ]
    },
    {
      "cell_type": "code",
      "metadata": {
        "pycharm": {
          "name": "#%%\n"
        },
        "id": "TZuN_G08iJ0i",
        "colab_type": "code",
        "colab": {
          "base_uri": "https://localhost:8080/",
          "height": 292
        },
        "outputId": "aaf66897-dcdb-451e-a42f-f3ecaa461fe7"
      },
      "source": [
        "results_df, results_metrics = test(model, test_loader, criterion, device)\n",
        "print(results_metrics)\n",
        "print(\"done\")"
      ],
      "execution_count": 32,
      "outputs": [
        {
          "output_type": "stream",
          "text": [
            "    img_idx  ...             predicted_label\n",
            "0         0  ...  tensor(0, device='cuda:0')\n",
            "1         1  ...  tensor(2, device='cuda:0')\n",
            "2         2  ...  tensor(2, device='cuda:0')\n",
            "3         3  ...  tensor(0, device='cuda:0')\n",
            "4         0  ...  tensor(0, device='cuda:0')\n",
            "..      ...  ...                         ...\n",
            "98        2  ...  tensor(0, device='cuda:0')\n",
            "99        3  ...  tensor(0, device='cuda:0')\n",
            "100       0  ...  tensor(1, device='cuda:0')\n",
            "101       1  ...  tensor(2, device='cuda:0')\n",
            "102       2  ...  tensor(0, device='cuda:0')\n",
            "\n",
            "[103 rows x 4 columns] {'accuracy': 0.9130434782608695, 'sensitivity': 0.0, 'specificity': 0.9545454545454546, 'balanced_accuracy': 0.4772727272727273, 'mean_loss': 2.0546498669003976}\n",
            "done\n"
          ],
          "name": "stdout"
        }
      ]
    },
    {
      "cell_type": "code",
      "metadata": {
        "id": "jwyK2AfHr_1M",
        "colab_type": "code",
        "colab": {}
      },
      "source": [
        ""
      ],
      "execution_count": 0,
      "outputs": []
    }
  ]
}