{
  "nbformat": 4,
  "nbformat_minor": 0,
  "metadata": {
    "language_info": {
      "codemirror_mode": {
        "name": "ipython",
        "version": 2
      },
      "file_extension": ".py",
      "mimetype": "text/x-python",
      "name": "python",
      "nbconvert_exporter": "python",
      "pygments_lexer": "ipython2",
      "version": "2.7.6"
    },
    "kernelspec": {
      "name": "python3",
      "display_name": "Python 3"
    },
    "pycharm": {
      "stem_cell": {
        "cell_type": "raw",
        "source": [],
        "metadata": {
          "collapsed": false
        }
      }
    },
    "colab": {
      "name": "train_classifier.ipynb",
      "provenance": [],
      "collapsed_sections": [],
      "include_colab_link": true
    },
    "accelerator": "GPU"
  },
  "cells": [
    {
      "cell_type": "markdown",
      "metadata": {
        "id": "view-in-github",
        "colab_type": "text"
      },
      "source": [
        "<a href=\"https://colab.research.google.com/github/khalilouardini/IDRiD-challenge/blob/master/train_classifier.ipynb\" target=\"_parent\"><img src=\"https://colab.research.google.com/assets/colab-badge.svg\" alt=\"Open In Colab\"/></a>"
      ]
    },
    {
      "cell_type": "code",
      "metadata": {
        "id": "L8_CZHG0iLxd",
        "colab_type": "code",
        "outputId": "2cae46d1-090e-4d79-dc8a-e6f6d86c25d4",
        "colab": {
          "base_uri": "https://localhost:8080/",
          "height": 122
        }
      },
      "source": [
        "from google.colab import drive\n",
        "drive.mount('/content/drive')"
      ],
      "execution_count": 0,
      "outputs": [
        {
          "output_type": "stream",
          "text": [
            "Go to this URL in a browser: https://accounts.google.com/o/oauth2/auth?client_id=947318989803-6bn6qk8qdgf4n4g3pfee6491hc0brc4i.apps.googleusercontent.com&redirect_uri=urn%3aietf%3awg%3aoauth%3a2.0%3aoob&response_type=code&scope=email%20https%3a%2f%2fwww.googleapis.com%2fauth%2fdocs.test%20https%3a%2f%2fwww.googleapis.com%2fauth%2fdrive%20https%3a%2f%2fwww.googleapis.com%2fauth%2fdrive.photos.readonly%20https%3a%2f%2fwww.googleapis.com%2fauth%2fpeopleapi.readonly\n",
            "\n",
            "Enter your authorization code:\n",
            "··········\n",
            "Mounted at /content/drive\n"
          ],
          "name": "stdout"
        }
      ]
    },
    {
      "cell_type": "code",
      "metadata": {
        "id": "xxglY_Gqiv2K",
        "colab_type": "code",
        "colab": {}
      },
      "source": [
        "import os\n",
        "os.chdir('drive/My Drive/IDRiD-challenge')"
      ],
      "execution_count": 0,
      "outputs": []
    },
    {
      "cell_type": "code",
      "metadata": {
        "id": "74_8MJaIi854",
        "colab_type": "code",
        "outputId": "c43a06b0-f9ff-4174-9fd3-280fc70424c1",
        "colab": {
          "base_uri": "https://localhost:8080/",
          "height": 68
        }
      },
      "source": [
        "!ls"
      ],
      "execution_count": 35,
      "outputs": [
        {
          "output_type": "stream",
          "text": [
            "classifier_utils.py  IDRiDClassifier.py       Segmentation_task\n",
            "datasets\t     IDRIDetectionDataset.py  train_classifier.ipynb\n",
            "detection.ipynb      __pycache__\n"
          ],
          "name": "stdout"
        }
      ]
    },
    {
      "cell_type": "code",
      "metadata": {
        "id": "4a6nEvnniOav",
        "colab_type": "code",
        "colab": {}
      },
      "source": [
        "from IDRiDClassifier import IDRiDClassifier\n",
        "from datasets.IDRiDGradingDataset import IDRiDGradingDataset\n",
        "import copy\n",
        "from torchvision import transforms, utils\n",
        "from torch.utils.data import Dataset, DataLoader\n",
        "from copy import deepcopy\n",
        "import numpy as np\n",
        "import torch\n",
        "import pandas as pd\n",
        "from torch.utils.data.sampler import SubsetRandomSampler"
      ],
      "execution_count": 0,
      "outputs": []
    },
    {
      "cell_type": "code",
      "metadata": {
        "pycharm": {
          "name": "#%%\n",
          "is_executing": false
        },
        "id": "rqXVmWPSiJ0V",
        "colab_type": "code",
        "outputId": "8c7d9e37-b7dd-4678-a555-5535e386401c",
        "colab": {
          "base_uri": "https://localhost:8080/",
          "height": 34
        }
      },
      "source": [
        "# Prepare data\n",
        "root_dir_train = \"/content/drive/My Drive/B. Disease Grading/1. Original Images/a. Training Set\"\n",
        "csv_file_train = \"/content/drive/My Drive/B. Disease Grading/2. Groundtruths/a. IDRiD_Disease Grading_Training Labels.csv\"\n",
        "\n",
        "root_dir_test = \"/content/drive/My Drive/B. Disease Grading/1. Original Images/b. Testing Set\"\n",
        "csv_file_test = \"/content/drive/My Drive/B. Disease Grading/2. Groundtruths/b. IDRiD_Disease Grading_Testing Labels.csv\"\n",
        "bengraham = False\n",
        "\n",
        "# transform (preprocessing)\n",
        "scale = transforms.Resize((256, 256))\n",
        "to_tensor = transforms.ToTensor()\n",
        "composed = transforms.Compose([scale,\n",
        "                               to_tensor])\n",
        "# train and test set\n",
        "train_set = IDRiDGradingDataset(csv_file_train, root_dir_train, composed, bengraham)\n",
        "test_set = IDRiDGradingDataset(csv_file_test, root_dir_test, composed, bengraham)\n",
        "\n",
        "#dataloaders\n",
        "batch_size = 16\n",
        "n = len(train_set)\n",
        "train_indices = list(range(int(0.8*n)))\n",
        "val_indices = list(range(int(0.8*n)+1, n))\n",
        "\n",
        "train_loader = DataLoader(train_set, batch_size=batch_size,\n",
        "                              sampler=SubsetRandomSampler(train_indices), num_workers=0)\n",
        "val_loader = DataLoader(train_set, batch_size=batch_size,\n",
        "                            sampler=SubsetRandomSampler(val_indices), num_workers=0)\n",
        "test_loader = DataLoader(test_set, batch_size=batch_size,\n",
        "                            shuffle=True, num_workers=0)\n",
        "\n",
        "print(f\"# batches in train set {len(train_loader)} | # batches in val set {len(val_loader)}  # batches in test set {len(test_loader)  }\")"
      ],
      "execution_count": 60,
      "outputs": [
        {
          "output_type": "stream",
          "text": [
            "# batches in train set 21 | # batches in val set 6  # batches in test set 7\n"
          ],
          "name": "stdout"
        }
      ]
    },
    {
      "cell_type": "code",
      "metadata": {
        "pycharm": {
          "name": "#%%\n"
        },
        "id": "WL6BazEAiJ0a",
        "colab_type": "code",
        "colab": {}
      },
      "source": [
        "# model\n",
        "use_cuda = torch.cuda.is_available()\n",
        "model = IDRiDClassifier()\n",
        "device = torch.device(\"cuda:0\" if use_cuda else \"cpu\")\n",
        "if use_cuda:\n",
        "    model = torch.nn.DataParallel(model)\n",
        "model.to(device)\n",
        "\n",
        "# intialize variables\n",
        "n_epochs = 10\n",
        "lr = 1e-4\n",
        "criterion = torch.nn.CrossEntropyLoss(reduction='sum')\n",
        "optimizer = torch.optim.Adam(model.parameters(), lr=lr)"
      ],
      "execution_count": 0,
      "outputs": []
    },
    {
      "cell_type": "code",
      "metadata": {
        "id": "VgMVmYZ_oHwW",
        "colab_type": "code",
        "colab": {}
      },
      "source": [
        "import numpy as np\n",
        "import torch\n",
        "import pandas as pd\n",
        "from copy import deepcopy\n",
        "import pdb\n",
        "\n",
        "def train(model, train_loader, val_loader, criterion, optimizer, n_epochs, device):\n",
        "    \"\"\"\n",
        "    Method used to train our classifier\n",
        "\n",
        "    Args:\n",
        "        model: (nn.Module) the neural network\n",
        "        train_loader: (DataLoader) a DataLoader wrapping a MRIDataset\n",
        "        criterion: (nn.Module) a method to compute the loss of a mini-batch of images\n",
        "        optimizer: (torch.optim) an optimization algorithm\n",
        "        n_epochs: (int) number of epochs performed during training\n",
        "\n",
        "    Returns:\n",
        "        best_model: (nn.Module) the trained neural network\n",
        "    \"\"\"\n",
        "    best_model = deepcopy(model)\n",
        "    val_best_loss = np.inf\n",
        "    history_train = {'acc': [], 'loss': []}\n",
        "    history_val = {'acc': [], 'loss': []}\n",
        "    for epoch in range(n_epochs):\n",
        "        model.train()\n",
        "        for i, data in enumerate(train_loader, 0):\n",
        "            # load batch\n",
        "            images, labels = data['image'], data['labels']\n",
        "            images = images.to(device)\n",
        "            labels = labels.to(device)\n",
        "            # - forward pass\n",
        "            output = model.forward(images)\n",
        "            # - loss computation\n",
        "            loss = criterion(output, labels)\n",
        "            # - backward pass (gradients computation)\n",
        "            loss.backward()\n",
        "            # - weights update\n",
        "            optimizer.step()\n",
        "            # - gradients set to 0\n",
        "            optimizer.zero_grad()\n",
        "\n",
        "        _, val_metrics = test(model, val_loader, criterion, device)\n",
        "        _, train_metrics = test(model, train_loader, criterion, device)\n",
        "\n",
        "        print('Train |Epoch %i: loss = %f | accuracy: %f | balanced accuracy = %f'\n",
        "              % (epoch, train_metrics['mean_loss'],\n",
        "                 train_metrics['accuracy'],\n",
        "                 train_metrics['balanced_accuracy']))\n",
        "        print('Validation |Epoch %i: loss = %f | accuracy: %f | balanced accuracy = %f'\n",
        "              % (epoch, val_metrics['mean_loss'],\n",
        "                 val_metrics['accuracy'],\n",
        "                 val_metrics['balanced_accuracy']))\n",
        "        print('\\n')\n",
        "\n",
        "        # history\n",
        "        history_val['acc'].append(val_metrics['accuracy'])\n",
        "        history_val['loss'].append(val_metrics['mean_loss'])\n",
        "        history_train['acc'].append(train_metrics['accuracy'])\n",
        "        history_train['loss'].append(train_metrics['mean_loss'])\n",
        "\n",
        "        if val_metrics['mean_loss'] < val_best_loss:\n",
        "            best_model = deepcopy(model)\n",
        "            val_best_loss = val_metrics['mean_loss']\n",
        "\n",
        "    return best_model, history_train, history_val\n",
        "\n",
        "\n",
        "def test(model, data_loader, criterion, device):\n",
        "    \"\"\"\n",
        "    Method used to test a CNN\n",
        "\n",
        "    Args:\n",
        "        model: (nn.Module) the model\n",
        "        data_loader: (DataLoader) a DataLoader\n",
        "        criterion: (nn.Module) a method to compute the loss of a mini-batch of images\n",
        "\n",
        "    Returns:\n",
        "        results_df: (DataFrame) the label predicted for every subject\n",
        "        results_metrics: (dict) a set of metrics\n",
        "    \"\"\"\n",
        "    model.eval()\n",
        "    columns = [\"img_idx\", \"proba\",\n",
        "               \"true_label\", \"predicted_label\"]\n",
        "    results_df = pd.DataFrame(columns=columns)\n",
        "    total_loss = 0\n",
        "\n",
        "    with torch.no_grad():\n",
        "        for i, data in enumerate(data_loader, 0):\n",
        "            images, labels = data['image'].to(device), data['labels'].to(device)\n",
        "            outputs = model(images)\n",
        "            loss = criterion(outputs, labels)\n",
        "            total_loss += loss.item()\n",
        "            proba = torch.nn.Softmax(dim=1)(outputs)\n",
        "            predictions, predicted_labels = torch.max(outputs.data, dim=1).values, torch.max(outputs.data, dim=1).indices\n",
        "            for idx, _ in enumerate(labels):\n",
        "                row = [idx, predictions[idx], labels[idx], predicted_labels[idx]]\n",
        "                row_df = pd.DataFrame([row], columns=columns)\n",
        "                results_df = pd.concat([results_df, row_df])\n",
        "\n",
        "    results_metrics = compute_metrics(results_df.true_label.values, results_df.predicted_label.values)\n",
        "    results_df.reset_index(inplace=True, drop=True)\n",
        "    results_metrics['mean_loss'] = total_loss / len(data_loader.dataset)\n",
        "\n",
        "    return results_df, results_metrics\n",
        "\n",
        "\n",
        "\n",
        "def compute_metrics(ground_truth, prediction):\n",
        "    \"\"\"Computes the accuracy, sensitivity, specificity and balanced accuracy\"\"\"\n",
        "    matches = 0\n",
        "    for pred, gt in zip(prediction, ground_truth):\n",
        "      if pred.item() == gt.item():\n",
        "        matches += 1\n",
        "\n",
        "    metrics_dict = dict()\n",
        "    metrics_dict['accuracy'] = matches / prediction.size\n",
        "\n",
        "    tp = np.sum((prediction == 1) & (ground_truth == 1))\n",
        "    tn = np.sum((prediction == 0) & (ground_truth == 0))\n",
        "    fp = np.sum((prediction == 1) & (ground_truth == 0))\n",
        "    fn = np.sum((prediction == 0) & (ground_truth == 1))\n",
        "\n",
        "    # Sensitivity\n",
        "    if tp + fn != 0:\n",
        "        metrics_dict['sensitivity'] = tp / (tp + fn)\n",
        "    else:\n",
        "        metrics_dict['sensitivity'] = 0.0\n",
        "\n",
        "    # Specificity\n",
        "    if fp + tn != 0:\n",
        "        metrics_dict['specificity'] = tn / (fp + tn)\n",
        "    else:\n",
        "        metrics_dict['specificity'] = 0.0\n",
        "\n",
        "    metrics_dict['balanced_accuracy'] = (metrics_dict['sensitivity'] + metrics_dict['specificity']) / 2\n",
        "\n",
        "    return metrics_dict"
      ],
      "execution_count": 0,
      "outputs": []
    },
    {
      "cell_type": "code",
      "metadata": {
        "pycharm": {
          "name": "#%%\n"
        },
        "id": "4UpXIhMuiJ0f",
        "colab_type": "code",
        "outputId": "3e45007f-75c2-4b52-db5f-6814fe7b82f4",
        "colab": {
          "base_uri": "https://localhost:8080/",
          "height": 1000
        }
      },
      "source": [
        "best_model, history_train, history_val = train(model, train_loader, val_loader, criterion, optimizer, n_epochs, device)"
      ],
      "execution_count": 71,
      "outputs": [
        {
          "output_type": "stream",
          "text": [
            "Train |Epoch 0: loss = 0.598428 | accuracy: 0.709091 | balanced accuracy = 0.500000\n",
            "Validation |Epoch 0: loss = 0.235468 | accuracy: 0.475610 | balanced accuracy = 0.500000\n",
            "\n",
            "\n",
            "Train |Epoch 1: loss = 0.587354 | accuracy: 0.721212 | balanced accuracy = 0.550401\n",
            "Validation |Epoch 1: loss = 0.236638 | accuracy: 0.524390 | balanced accuracy = 0.500000\n",
            "\n",
            "\n",
            "Train |Epoch 2: loss = 0.579890 | accuracy: 0.721212 | balanced accuracy = 0.661458\n",
            "Validation |Epoch 2: loss = 0.235755 | accuracy: 0.500000 | balanced accuracy = 0.500000\n",
            "\n",
            "\n",
            "Train |Epoch 3: loss = 0.568788 | accuracy: 0.742424 | balanced accuracy = 0.571429\n",
            "Validation |Epoch 3: loss = 0.240814 | accuracy: 0.487805 | balanced accuracy = 0.500000\n",
            "\n",
            "\n",
            "Train |Epoch 4: loss = 0.558061 | accuracy: 0.733333 | balanced accuracy = 0.571429\n",
            "Validation |Epoch 4: loss = 0.236270 | accuracy: 0.512195 | balanced accuracy = 0.500000\n",
            "\n",
            "\n",
            "Train |Epoch 5: loss = 0.550261 | accuracy: 0.760606 | balanced accuracy = 0.661565\n",
            "Validation |Epoch 5: loss = 0.237700 | accuracy: 0.524390 | balanced accuracy = 0.500000\n",
            "\n",
            "\n",
            "Train |Epoch 6: loss = 0.540023 | accuracy: 0.757576 | balanced accuracy = 0.594949\n",
            "Validation |Epoch 6: loss = 0.237477 | accuracy: 0.500000 | balanced accuracy = 0.500000\n",
            "\n",
            "\n",
            "Train |Epoch 7: loss = 0.537635 | accuracy: 0.754545 | balanced accuracy = 0.578070\n",
            "Validation |Epoch 7: loss = 0.241182 | accuracy: 0.512195 | balanced accuracy = 0.500000\n",
            "\n",
            "\n",
            "Train |Epoch 8: loss = 0.528524 | accuracy: 0.769697 | balanced accuracy = 0.645000\n",
            "Validation |Epoch 8: loss = 0.233313 | accuracy: 0.524390 | balanced accuracy = 0.500000\n",
            "\n",
            "\n",
            "Train |Epoch 9: loss = 0.520509 | accuracy: 0.772727 | balanced accuracy = 0.645000\n",
            "Validation |Epoch 9: loss = 0.236072 | accuracy: 0.524390 | balanced accuracy = 0.500000\n",
            "\n",
            "\n",
            "Train |Epoch 10: loss = 0.514209 | accuracy: 0.778788 | balanced accuracy = 0.676716\n",
            "Validation |Epoch 10: loss = 0.238550 | accuracy: 0.512195 | balanced accuracy = 0.500000\n",
            "\n",
            "\n",
            "Train |Epoch 11: loss = 0.503680 | accuracy: 0.778788 | balanced accuracy = 0.681818\n",
            "Validation |Epoch 11: loss = 0.240519 | accuracy: 0.487805 | balanced accuracy = 0.500000\n",
            "\n",
            "\n",
            "Train |Epoch 12: loss = 0.495339 | accuracy: 0.796970 | balanced accuracy = 0.722171\n",
            "Validation |Epoch 12: loss = 0.240986 | accuracy: 0.512195 | balanced accuracy = 0.500000\n",
            "\n",
            "\n",
            "Train |Epoch 13: loss = 0.488596 | accuracy: 0.796970 | balanced accuracy = 0.661812\n",
            "Validation |Epoch 13: loss = 0.238695 | accuracy: 0.512195 | balanced accuracy = 0.500000\n",
            "\n",
            "\n",
            "Train |Epoch 14: loss = 0.482782 | accuracy: 0.784848 | balanced accuracy = 0.661812\n",
            "Validation |Epoch 14: loss = 0.241177 | accuracy: 0.512195 | balanced accuracy = 0.500000\n",
            "\n",
            "\n",
            "Train |Epoch 15: loss = 0.477711 | accuracy: 0.806061 | balanced accuracy = 0.750000\n",
            "Validation |Epoch 15: loss = 0.241981 | accuracy: 0.500000 | balanced accuracy = 0.500000\n",
            "\n",
            "\n",
            "Train |Epoch 16: loss = 0.473477 | accuracy: 0.796970 | balanced accuracy = 0.725915\n",
            "Validation |Epoch 16: loss = 0.237163 | accuracy: 0.487805 | balanced accuracy = 0.500000\n",
            "\n",
            "\n",
            "Train |Epoch 17: loss = 0.467608 | accuracy: 0.803030 | balanced accuracy = 0.692308\n",
            "Validation |Epoch 17: loss = 0.241849 | accuracy: 0.512195 | balanced accuracy = 0.500000\n",
            "\n",
            "\n",
            "Train |Epoch 18: loss = 0.464630 | accuracy: 0.803030 | balanced accuracy = 0.666667\n",
            "Validation |Epoch 18: loss = 0.242697 | accuracy: 0.512195 | balanced accuracy = 0.500000\n",
            "\n",
            "\n",
            "Train |Epoch 19: loss = 0.458785 | accuracy: 0.803030 | balanced accuracy = 0.681818\n",
            "Validation |Epoch 19: loss = 0.238772 | accuracy: 0.548780 | balanced accuracy = 0.500000\n",
            "\n",
            "\n"
          ],
          "name": "stdout"
        }
      ]
    },
    {
      "cell_type": "code",
      "metadata": {
        "id": "XmGM_-C8RJI0",
        "colab_type": "code",
        "colab": {
          "base_uri": "https://localhost:8080/",
          "height": 282
        },
        "outputId": "2aa7a9d4-1490-4b9b-9cc1-63edf9d1ffd8"
      },
      "source": [
        "import matplotlib.pyplot as plt\n",
        "\n",
        "plt.plot(history_train['acc'])\n",
        "plt.plot(history_val['acc'])"
      ],
      "execution_count": 72,
      "outputs": [
        {
          "output_type": "execute_result",
          "data": {
            "text/plain": [
              "[<matplotlib.lines.Line2D at 0x7fc974088748>]"
            ]
          },
          "metadata": {
            "tags": []
          },
          "execution_count": 72
        },
        {
          "output_type": "display_data",
          "data": {
            "image/png": "[encoded data removed]",
            "text/plain": [
              "<Figure size 432x288 with 1 Axes>"
            ]
          },
          "metadata": {
            "tags": []
          }
        }
      ]
    },
    {
      "cell_type": "code",
      "metadata": {
        "id": "bxgSQhj-RU-o",
        "colab_type": "code",
        "colab": {
          "base_uri": "https://localhost:8080/",
          "height": 282
        },
        "outputId": "2f40398a-ec27-4817-abcf-ddf23d854a33"
      },
      "source": [
        "plt.plot(history_train['loss'])\n",
        "plt.plot(history_val['loss'])"
      ],
      "execution_count": 73,
      "outputs": [
        {
          "output_type": "execute_result",
          "data": {
            "text/plain": [
              "[<matplotlib.lines.Line2D at 0x7fc974088588>]"
            ]
          },
          "metadata": {
            "tags": []
          },
          "execution_count": 73
        },
        {
          "output_type": "display_data",
          "data": {
            "image/png": "[encoded data removed]",
            "text/plain": [
              "<Figure size 432x288 with 1 Axes>"
            ]
          },
          "metadata": {
            "tags": []
          }
        }
      ]
    },
    {
      "cell_type": "code",
      "metadata": {
        "pycharm": {
          "name": "#%%\n"
        },
        "id": "TZuN_G08iJ0i",
        "colab_type": "code",
        "outputId": "b9bf7ac9-9097-475d-ac77-0df578618214",
        "colab": {
          "base_uri": "https://localhost:8080/",
          "height": 71
        }
      },
      "source": [
        "results_df, results_metrics = test(best_model, test_loader, criterion, device)\n",
        "print(results_metrics)\n",
        "print(\"done\")"
      ],
      "execution_count": 75,
      "outputs": [
        {
          "output_type": "stream",
          "text": [
            "{'accuracy': 0.5048543689320388, 'sensitivity': 0.0, 'specificity': 1.0, 'balanced_accuracy': 0.5, 'mean_loss': 1.1176620409326645}\n",
            "done\n"
          ],
          "name": "stdout"
        }
      ]
    },
    {
      "cell_type": "code",
      "metadata": {
        "id": "ZODcLorCRZy8",
        "colab_type": "code",
        "colab": {}
      },
      "source": [
        ""
      ],
      "execution_count": 0,
      "outputs": []
    }
  ]
}